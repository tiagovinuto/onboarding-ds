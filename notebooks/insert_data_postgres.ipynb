{
 "cells": [
  {
   "cell_type": "code",
   "execution_count": null,
   "id": "74141749",
   "metadata": {},
   "outputs": [],
   "source": [
    "import pandas as pd\n",
    "import psycopg2\n",
    "\n",
    "import os\n",
    "import sys\n",
    "sys.path.append(\"../\")\n",
    "from dotenv import load_dotenv\n",
    "\n",
    "load_dotenv()"
   ]
  },
  {
   "cell_type": "code",
   "execution_count": null,
   "id": "a494a543",
   "metadata": {},
   "outputs": [],
   "source": [
    "# Criando as variáveis para conexão das bases\n",
    "database = os.getenv('DATABASE')\n",
    "user = os.getenv('USER')\n",
    "password = os.getenv('PASSWORD')\n",
    "port = int(os.getenv('PORT'))\n",
    "host = os.getenv('HOST')"
   ]
  },
  {
   "cell_type": "markdown",
   "id": "978f6111",
   "metadata": {},
   "source": [
    "<div style=\"text-align:center\">\n",
    "    <h1 style=\"font-size:40px\"><b> Inserção de Dados no Postgres </b></h1>\n",
    "</div>"
   ]
  },
  {
   "cell_type": "markdown",
   "id": "303c2234",
   "metadata": {},
   "source": [
    "### Criando as tabelas no Postgres"
   ]
  },
  {
   "cell_type": "markdown",
   "id": "9f718586",
   "metadata": {},
   "source": [
    "```sql\n",
    "CREATE TABLE movies (\n",
    "  id SERIAL PRIMARY KEY,\n",
    "  title VARCHAR(255) NOT NULL,\n",
    "  year INTEGER NOT NULL,\n",
    "  duration INTEGER NOT NULL\n",
    ");```sql\n",
    "\n",
    "```sql\n",
    "CREATE TABLE genres (\n",
    "  id SERIAL PRIMARY KEY,\n",
    "  name VARCHAR(255) NOT NULL\n",
    ");```sql\n",
    "\n",
    "```sql\n",
    "CREATE TABLE actors (\n",
    "  id SERIAL PRIMARY KEY,\n",
    "  name VARCHAR(255) NOT NULL\n",
    ");```sql\n",
    "\n",
    "```sql\n",
    "CREATE TABLE roles (\n",
    "  id SERIAL PRIMARY KEY,\n",
    "  movie_id INTEGER NOT NULL REFERENCES movies(id) ON DELETE CASCADE,\n",
    "  actor_id INTEGER NOT NULL REFERENCES actors(id) ON DELETE CASCADE,\n",
    "  character VARCHAR(255) NOT NULL\n",
    ");```sql\n",
    "\n",
    "```sql\n",
    "CREATE TABLE ratings (\n",
    "  id SERIAL PRIMARY KEY,\n",
    "  movie_id INTEGER NOT NULL REFERENCES movies(id) ON DELETE CASCADE,\n",
    "  source VARCHAR(255) NOT NULL,\n",
    "  rating FLOAT NOT NULL\n",
    ");```sql\n",
    "\n",
    "```sql\n",
    "ALTER TABLE roles ADD CONSTRAINT roles_movie_id_fkey1 FOREIGN KEY (movie_id) REFERENCES movies(id) ON DELETE CASCADE;```sql\n",
    "\n",
    "```sql\n",
    "ALTER TABLE roles ADD CONSTRAINT roles_actor_id_fkey FOREIGN KEY (actor_id) REFERENCES actors(id) ON DELETE CASCADE;```sql\n",
    "\n",
    "```sql\n",
    "ALTER TABLE ratings ADD CONSTRAINT ratings_movie_id_fkey FOREIGN KEY (movie_id) REFERENCES movies(id) ON DELETE CASCADE;```sql"
   ]
  },
  {
   "cell_type": "code",
   "execution_count": null,
   "id": "65110663",
   "metadata": {},
   "outputs": [],
   "source": [
    "import psycopg2\n",
    "\n",
    "class PostgresConnector:\n",
    "    def __init__(self, host, database, user, password):\n",
    "        self.conn = psycopg2.connect(\n",
    "            host=host,\n",
    "            database=database,\n",
    "            user=user,\n",
    "            password=password\n",
    "        )\n",
    "        self.cur = self.conn.cursor()\n",
    "\n",
    "    def create_table(self, table_name):\n",
    "        query = f\"\"\"\n",
    "        CREATE TABLE IF NOT EXISTS {table_name} (\n",
    "            id SERIAL PRIMARY KEY,\n",
    "            title VARCHAR(255) UNIQUE,\n",
    "            duration INTEGER,\n",
    "            rating NUMERIC(3,1),\n",
    "            votes INTEGER,\n",
    "            year_ INTEGER\n",
    "        )\n",
    "        \"\"\"\n",
    "        self.cur.execute(query)\n",
    "        self.conn.commit()\n",
    "\n",
    "    def insert_data_from_dataframe(self, table_name, df):\n",
    "        for i, row in df.iterrows():\n",
    "            query = f\"INSERT INTO {table_name} (title, duration, rating, votes, year_) VALUES (%s, %s, %s, %s, %s) ON CONFLICT (title) DO NOTHING\"\n",
    "            values = (row['title'], row['duration'], row['rating'], row['votes'], row['year'])\n",
    "            print(values)\n",
    "            try:\n",
    "                self.cur.execute(query, values)\n",
    "            except psycopg2.errors.UniqueViolation as e:\n",
    "                print(f'Error: {e}')\n",
    "                # ignore duplicate entries\n",
    "                pass\n",
    "        self.conn.commit()\n",
    "\n",
    "    def close_connection(self):\n",
    "        self.cur.close()\n",
    "        self.conn.close()"
   ]
  },
  {
   "cell_type": "code",
   "execution_count": null,
   "id": "2e839955",
   "metadata": {},
   "outputs": [],
   "source": [
    "df_imdb_copy = pd.read_csv(\"../data/df_imdb_copy.csv\")"
   ]
  },
  {
   "cell_type": "code",
   "execution_count": null,
   "id": "177e189c",
   "metadata": {},
   "outputs": [],
   "source": [
    "df_imdb_copy.head()"
   ]
  },
  {
   "cell_type": "code",
   "execution_count": null,
   "id": "49a57bde",
   "metadata": {},
   "outputs": [],
   "source": [
    "# Instanciar a classe PostgresConnector\n",
    "connector = PostgresConnector(\n",
    "    host=host,\n",
    "    database=database,\n",
    "    user=user,\n",
    "    password=password\n",
    ")\n",
    "\n",
    "# Criar tabela \"movies\"\n",
    "connector.create_table(\"movies\")\n",
    "\n",
    "# Inserir dados na tabela \"movies\" em lotes de 1000 linhas\n",
    "chunk_size = 1000\n",
    "for i in range(0, len(df_imdb_copy), chunk_size):\n",
    "    chunk = df_imdb_copy.iloc[i:i+chunk_size]\n",
    "    connector.insert_data_from_dataframe(chunk, conn, \"movies\")\n",
    "\n",
    "# Fechar a conexão\n",
    "connector.close_connection()"
   ]
  }
 ],
 "metadata": {
  "kernelspec": {
   "display_name": "onboard_sidi",
   "language": "python",
   "name": "onboard_sidi"
  },
  "language_info": {
   "codemirror_mode": {
    "name": "ipython",
    "version": 3
   },
   "file_extension": ".py",
   "mimetype": "text/x-python",
   "name": "python",
   "nbconvert_exporter": "python",
   "pygments_lexer": "ipython3",
   "version": "3.9.13"
  }
 },
 "nbformat": 4,
 "nbformat_minor": 5
}
